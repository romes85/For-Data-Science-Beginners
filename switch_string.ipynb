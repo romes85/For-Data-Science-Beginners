{
  "nbformat": 4,
  "nbformat_minor": 0,
  "metadata": {
    "colab": {
      "name": "switch string.ipynb",
      "provenance": [],
      "authorship_tag": "ABX9TyMX1F09mtJno8bDQpZkbjPg",
      "include_colab_link": true
    },
    "kernelspec": {
      "name": "python3",
      "display_name": "Python 3"
    },
    "language_info": {
      "name": "python"
    }
  },
  "cells": [
    {
      "cell_type": "markdown",
      "metadata": {
        "id": "view-in-github",
        "colab_type": "text"
      },
      "source": [
        "<a href=\"https://colab.research.google.com/github/romes85/For-Data-Science-Beginners/blob/master/switch_string.ipynb\" target=\"_parent\"><img src=\"https://colab.research.google.com/assets/colab-badge.svg\" alt=\"Open In Colab\"/></a>"
      ]
    },
    {
      "cell_type": "code",
      "execution_count": 7,
      "metadata": {
        "id": "c-Kxra4SxHIP"
      },
      "outputs": [],
      "source": [
        "def switch_str(i: str):\n",
        "  i = i.split()\n",
        "  i = i[::-1]\n",
        "  i = \" \".join(i).swapcase()\n",
        "  #i.swapcase()\n",
        "  return i\n"
      ]
    },
    {
      "cell_type": "code",
      "source": [
        "switch_str(\"ahoj jak se MAS\")"
      ],
      "metadata": {
        "colab": {
          "base_uri": "https://localhost:8080/",
          "height": 37
        },
        "id": "Qsq0CSIhy7AN",
        "outputId": "3b6f18d6-75a4-4c37-d453-846e563c0126"
      },
      "execution_count": 8,
      "outputs": [
        {
          "output_type": "execute_result",
          "data": {
            "application/vnd.google.colaboratory.intrinsic+json": {
              "type": "string"
            },
            "text/plain": [
              "'mas SE JAK AHOJ'"
            ]
          },
          "metadata": {},
          "execution_count": 8
        }
      ]
    }
  ]
}